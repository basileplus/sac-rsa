{
  "cells": [
    {
      "cell_type": "markdown",
      "metadata": {
        "id": "view-in-github",
        "colab_type": "text"
      },
      "source": [
        "<a href=\"https://colab.research.google.com/github/basileplus/sac-rsa/blob/main/RSA_SAC.ipynb\" target=\"_parent\"><img src=\"https://colab.research.google.com/assets/colab-badge.svg\" alt=\"Open In Colab\"/></a>"
      ]
    },
    {
      "cell_type": "code",
      "execution_count": 1,
      "metadata": {
        "id": "Md67y8lqE3Rx"
      },
      "outputs": [],
      "source": [
        "import torch\n",
        "import pandas as pd\n",
        "import numpy as np\n",
        "from collections import Counter\n",
        "import matplotlib.pyplot as plt\n",
        "import plotly.graph_objects as go\n",
        "import time\n",
        "from IPython.display import display, clear_output\n",
        "from plotly.subplots import make_subplots\n",
        "import torch.optim as optim\n",
        "import torch.nn.functional as F"
      ]
    },
    {
      "cell_type": "markdown",
      "metadata": {
        "id": "sFY4YGpbE3R0"
      },
      "source": [
        "# Data"
      ]
    },
    {
      "cell_type": "markdown",
      "metadata": {
        "id": "EJEcr9XZE3R1"
      },
      "source": [
        "First, we create the data :\n",
        "- a truth matrix $T\\in M_{U\\times M}(\\mathbb{R})$ composed of 0 and 1\n",
        "- a prior knowledge matrix $P\\in M_{M}(\\mathbb{R})$\n",
        "\n",
        "where $U$ is the number of utterances and $M$ is the number of meanings."
      ]
    },
    {
      "cell_type": "code",
      "execution_count": 2,
      "metadata": {
        "id": "SVvht2XRE3R2"
      },
      "outputs": [],
      "source": [
        "# Define the probability of obtaining 1s\n",
        "prob = 0.5\n",
        "shape = [5,5]\n",
        "# Create a tensor filled with the probability value\n",
        "prob_tensor = torch.full(shape, prob)\n",
        "# Generate the tensor using the Bernoulli distribution\n",
        "T = torch.bernoulli(prob_tensor)\n",
        "\n",
        "# Define the prior probability of each object\n",
        "P = torch.ones(shape[0])/shape[0]"
      ]
    },
    {
      "cell_type": "markdown",
      "metadata": {
        "id": "IjWMxNP3E3R2"
      },
      "source": [
        "Next we need to clean this data to exclude lines and rows of zero with the following function"
      ]
    },
    {
      "cell_type": "code",
      "execution_count": 3,
      "metadata": {
        "id": "yFMApHogE3R3"
      },
      "outputs": [],
      "source": [
        "def clean_data(T, P):\n",
        "    # Check for rows of zeros\n",
        "    row_zeros = (T == 0).all(dim=1)\n",
        "    if row_zeros.any():\n",
        "        print(\"Warning: The T contains rows of zeros.\")\n",
        "        print(f\"Rows to be removed: {torch.nonzero(row_zeros).squeeze().tolist()}\")\n",
        "        T = T[~row_zeros]\n",
        "        #P = P[~row_zeros]\n",
        "\n",
        "    # Check for columns of zeros\n",
        "    col_zeros = (T == 0).all(dim=0)\n",
        "    if col_zeros.any():\n",
        "        print(\"Warning: The T contains columns of zeros.\")\n",
        "        print(f\"Columns to be removed: {torch.nonzero(col_zeros).squeeze().tolist()}\")\n",
        "        T = T[:, ~col_zeros]\n",
        "        P = P[~col_zeros]\n",
        "\n",
        "    return T, P"
      ]
    },
    {
      "cell_type": "code",
      "execution_count": 4,
      "metadata": {
        "colab": {
          "base_uri": "https://localhost:8080/"
        },
        "id": "LhWhaJ0UE3R3",
        "outputId": "67addc44-029f-463b-f50f-e672dc79effe"
      },
      "outputs": [
        {
          "output_type": "stream",
          "name": "stdout",
          "text": [
            "tensor([[1., 1., 1., 0., 1.],\n",
            "        [1., 1., 1., 0., 0.],\n",
            "        [0., 1., 0., 0., 1.],\n",
            "        [0., 0., 0., 1., 1.],\n",
            "        [0., 1., 1., 1., 1.]])\n",
            "tensor([0.2000, 0.2000, 0.2000, 0.2000, 0.2000])\n"
          ]
        }
      ],
      "source": [
        "T,P = clean_data(T, P)\n",
        "print(T)\n",
        "print(P)"
      ]
    },
    {
      "cell_type": "markdown",
      "metadata": {
        "id": "91CFQhZeE3R4"
      },
      "source": [
        "Note that we can still have indistinguishable meanings, i.e. two meanings that possess the same truth values for all utterances."
      ]
    },
    {
      "cell_type": "markdown",
      "metadata": {
        "id": "FllmtfuLE3R5"
      },
      "source": [
        "# Soft Actor Critic (SAC)"
      ]
    },
    {
      "cell_type": "markdown",
      "metadata": {
        "id": "OKSyb4KkE3R5"
      },
      "source": [
        "We are going to implement RSA as a soft actor critic alogrithm. SAC is composed of :\n",
        "- An _actor_ that learn the policy $\\pi(a|s)$ giving the probability of taking an action $a$ given a state $s$\n",
        "- A _critic_ that learn the value function $Q(s,a)$ giving the expected return of taking an action $a$ in a state $s$\n",
        "\n",
        "In our case, **the state $s$ is the meaning $m$ to transmit and the action $a$ is sending a utterance $u$**.\n",
        "\n",
        "| RSA | SAC |\n",
        "| --- | --- |\n",
        "| Speaker | Actor |\n",
        "| Listener | Critic |\n",
        "| $u$ | $a$ |\n",
        "| $m$ | $s$ |"
      ]
    },
    {
      "cell_type": "markdown",
      "metadata": {
        "id": "b7pNCJMsE3R6"
      },
      "source": [
        "Both models are going to be parametrized by discrete tensor $\\theta_A \\in M_{U\\times M}(\\mathbb{R})$ and $\\theta_C \\in M_{U\\times M}(\\mathbb{R})$.\n",
        "\n",
        "The critic represent speaker's understanding of the listener. $\\theta_C$ is going to describe the estimated probability of the listener to understand the meaning $m$ given the utterance $u$."
      ]
    },
    {
      "cell_type": "markdown",
      "metadata": {
        "id": "blk_vRmBE3R7"
      },
      "source": [
        "\n",
        "\n",
        "## Critic policy\n",
        "\n",
        "We will use the Boltzmann policy to represent the listener estimation of the listener :\n",
        "$$\n",
        "\\pi_{\\theta_C}(s|a) = \\frac{e^{\\theta_C}(s,a)}{\\sum_{s'}e^{\\theta_C}(s',a)}\n",
        "$$\n",
        "\n",
        "Note that we switched $s$ and $a$ because $s \\leftrightarrow m$ and $a \\leftrightarrow u$.\n",
        "\n",
        "/!\\ This expression is here for comprehension only. In SAC there is only one policy : the actor policy. But as we are going need $L(m|u) \\leftrightarrow \\pi_{\\theta_C}(s|a)$ to compute the value $Q(a,s)$ of a $a,s$ pair, we will indereclty use the \"critic policy\".\n",
        "\n",
        "## Actor policy\n",
        "\n",
        "In the other hand, the actor policy is straightforward :\n",
        "$$\n",
        "\\pi_{\\theta_A}(a|s) = \\frac{e^{\\theta_A}(a,s)}{\\sum_{a'}e^{\\theta_A}(a',s)}\n",
        "$$"
      ]
    },
    {
      "cell_type": "markdown",
      "metadata": {
        "id": "zNAcX5QaE3R7"
      },
      "source": [
        "## Inintialization of the parameters\n",
        "\n",
        "We want to initialize actor and critic according to the truth matrix $T$ so that they only use true utterances to describe meanings. **We do not want the actor to violate the lexicon**. Given the policy $\\pi_{\\theta_A}$ we can chose :\n",
        "$$\n",
        "(\\theta_A)_{a,s} =  \\left\\{\n",
        "    \\begin{matrix}\n",
        "        -\\infty \\text{ if (a,s) is false} \\\\\n",
        "        1 \\text{ otherwise}\n",
        " \\end{matrix} \\right.\n",
        "$$\n",
        "In practice, we will take $-100$ instead of $-\\infty$."
      ]
    },
    {
      "cell_type": "code",
      "execution_count": 5,
      "metadata": {
        "colab": {
          "base_uri": "https://localhost:8080/"
        },
        "id": "FEyyvqiZE3R8",
        "outputId": "71d6a905-69dc-473e-a6fd-d1c0539a232b"
      },
      "outputs": [
        {
          "output_type": "execute_result",
          "data": {
            "text/plain": [
              "tensor([[1., 1., 1., 0., 1.],\n",
              "        [1., 1., 1., 0., 0.],\n",
              "        [0., 1., 0., 0., 1.],\n",
              "        [0., 0., 0., 1., 1.],\n",
              "        [0., 1., 1., 1., 1.]])"
            ]
          },
          "metadata": {},
          "execution_count": 5
        }
      ],
      "source": [
        "T"
      ]
    },
    {
      "cell_type": "code",
      "execution_count": 6,
      "metadata": {
        "colab": {
          "base_uri": "https://localhost:8080/"
        },
        "id": "LnXdoyU2E3R8",
        "outputId": "5016c1e8-edea-400f-c9ee-c5ee6f2a1e52"
      },
      "outputs": [
        {
          "output_type": "stream",
          "name": "stdout",
          "text": [
            "tensor([[   0.,    0.,    0., -100.,    0.],\n",
            "        [   0.,    0.,    0., -100., -100.],\n",
            "        [-100.,    0., -100., -100.,    0.],\n",
            "        [-100., -100., -100.,    0.,    0.],\n",
            "        [-100.,    0.,    0.,    0.,    0.]], requires_grad=True) tensor([[   0.,    0.,    0., -100.,    0.],\n",
            "        [   0.,    0.,    0., -100., -100.],\n",
            "        [-100.,    0., -100., -100.,    0.],\n",
            "        [-100., -100., -100.,    0.,    0.],\n",
            "        [-100.,    0.,    0.,    0.,    0.]], requires_grad=True)\n"
          ]
        }
      ],
      "source": [
        "def init_thetas(T):\n",
        "    theta_A = torch.where(T==0, -100, T)\n",
        "    theta_A = torch.where(T==1, 0, theta_A)\n",
        "    theta_C = torch.where(T==0, -100, T)\n",
        "    theta_C = torch.where(T==1, 0, theta_C)\n",
        "    theta_A.requires_grad = True\n",
        "    theta_C.requires_grad = True\n",
        "    return theta_A, theta_C\n",
        "\n",
        "theta_A, theta_C = init_thetas(T)\n",
        "print(theta_A, theta_C)"
      ]
    },
    {
      "cell_type": "markdown",
      "metadata": {
        "id": "YxiVc1YtE3R9"
      },
      "source": [
        "# Actor\n",
        "\n",
        "Let's begin by defining the actor. The actor is defined by its parameters $\\theta_A$ and its policy $\\pi_{\\theta_A}$. Often in SAC a neural network is used for both actor and critic, but for simplicity we used here a simple Boltzmann policy.\n",
        "\n",
        "The actor need to be able to :\n",
        "- compute its probability distribution $\\pi_{\\theta_A}(a|s)$ (here we use discrete distribution so can be put in a tensor)\n",
        "- sample an action given a state and a policy\n",
        "- compute its loss function"
      ]
    },
    {
      "cell_type": "markdown",
      "metadata": {
        "id": "hd0olhYrE3R9"
      },
      "source": [
        "## Compute the policy\n",
        "\n",
        "The actor samples an action given a tensor of logits (unnormalized parameters).\n",
        "Logits are the events log probabilities. This is why we initialized $\\theta$ with $-100$ and $0$.\n",
        "\n",
        "We will use the distribution class created by PyTorch to compute the policy. Our distribution is a categorical distribution. Doc can be found [here](https://pytorch.org/docs/stable/distributions.html#torch.distributions.categorical.Categorical)."
      ]
    },
    {
      "cell_type": "code",
      "execution_count": 7,
      "metadata": {
        "colab": {
          "base_uri": "https://localhost:8080/"
        },
        "id": "Rpk4aigSE3R9",
        "outputId": "b0dcc2c7-b5d0-4447-cbf7-0166e59bad7f"
      },
      "outputs": [
        {
          "output_type": "execute_result",
          "data": {
            "text/plain": [
              "tensor([1.9618e-44, 5.0000e-01, 5.0000e-01, 1.9618e-44])"
            ]
          },
          "metadata": {},
          "execution_count": 7
        }
      ],
      "source": [
        "from torch.distributions import Categorical\n",
        "\n",
        "pi_a = Categorical(logits = torch.tensor([-100, 0, 0, -100]))\n",
        "pi_a.probs"
      ]
    },
    {
      "cell_type": "markdown",
      "metadata": {
        "id": "tHqNC3udE3R-"
      },
      "source": [
        "This probability distribution is for a given state $s$, so we need to create to functions :\n",
        "- one to compute the policy for every states given parameters $\\theta_A$\n",
        "- one to sample an action given a state"
      ]
    },
    {
      "cell_type": "code",
      "execution_count": 8,
      "metadata": {
        "colab": {
          "base_uri": "https://localhost:8080/"
        },
        "id": "gM1F-qojE3R-",
        "outputId": "c3ef6610-3db9-42cf-b2e0-cbe3a2c99d06"
      },
      "outputs": [
        {
          "output_type": "stream",
          "name": "stdout",
          "text": [
            "probabilities :  tensor([[5.0000e-01, 2.5000e-01, 3.3333e-01, 1.9618e-44, 2.5000e-01],\n",
            "        [5.0000e-01, 2.5000e-01, 3.3333e-01, 1.9618e-44, 9.8091e-45],\n",
            "        [1.9618e-44, 2.5000e-01, 1.2612e-44, 1.9618e-44, 2.5000e-01],\n",
            "        [1.9618e-44, 9.8091e-45, 1.2612e-44, 5.0000e-01, 2.5000e-01],\n",
            "        [1.9618e-44, 2.5000e-01, 3.3333e-01, 5.0000e-01, 2.5000e-01]],\n",
            "       grad_fn=<CatBackward0>)\n",
            "sampled action for state 0 :  tensor(1)\n"
          ]
        }
      ],
      "source": [
        "def compute_pol(theta):\n",
        "    distris = [Categorical(logits = theta[:,i].contiguous()) for i in range(theta.shape[1])]\n",
        "    probs = [Categorical(logits = theta[:,i].contiguous()).probs for i in range(theta.shape[1])]\n",
        "    probs = torch.cat([prob.unsqueeze(0).t() for prob in probs], dim=1)\n",
        "    return distris, probs\n",
        "\n",
        "def sample_action(distris, a):\n",
        "    return distris[a].sample()\n",
        "\n",
        "\n",
        "print(\"probabilities : \",compute_pol(theta_A)[1])\n",
        "print(\"sampled action for state 0 : \",sample_action(compute_pol(theta_A)[0], 0))"
      ]
    },
    {
      "cell_type": "markdown",
      "metadata": {
        "id": "6GU2nivXE3R-"
      },
      "source": [
        "## Compute the loss\n",
        "\n",
        "Now we can compute the loss of the actor that we defined as :\n",
        "\\begin{align*}\n",
        "\\mathcal{L}_{\\text{actor}} &=- \\mathbb{E}_{s\\sim P}[\\mathbb{E}_{a\\sim \\pi_{\\theta_A}(a|s)}[Q_{\\theta_C}(a,s) - \\underbrace{\\log(\\pi_{\\theta_A}(a|s))}_\\text{entropy regularization}]]\\\\\n",
        "&= -\\sum_{s}P(s)\\left(\\sum_{a}\\pi_{\\theta_A}(a|s)Q_{\\theta_C}(a,s) + H_s(\\pi_{\\theta_A})\\right)\n",
        "\\end{align*}\n",
        "\n",
        "Where $H_s(\\pi_{\\theta_A})$ is the entropy of the policy $\\pi_{\\theta_A}$ given the state $s$.\n",
        "As input we need :\n",
        "- the policy $\\pi_{\\theta_A}(a|s)$\n",
        "- the value $Q_{\\theta_C}(a,s)$ of the pair : this will be given later by the critic\n",
        "- the prior knowledge tensor $P$\n"
      ]
    },
    {
      "cell_type": "code",
      "execution_count": 9,
      "metadata": {
        "colab": {
          "base_uri": "https://localhost:8080/"
        },
        "id": "h_OCg0k0E3R-",
        "outputId": "5fa1bfb0-c200-4cf5-b413-3caf1a031b2d"
      },
      "outputs": [
        {
          "output_type": "stream",
          "name": "stdout",
          "text": [
            "tensor([0.6931, 1.3863, 1.0986, 0.6931, 1.3863], grad_fn=<StackBackward0>)\n",
            "tensor(-2.0515, grad_fn=<NegBackward0>)\n"
          ]
        }
      ],
      "source": [
        "def compute_loss(distris, probs, Q, P):\n",
        "    entropies = torch.stack([dist.entropy() for dist in distris])\n",
        "    print(entropies)\n",
        "    return -torch.sum(P * (torch.sum(probs * Q, dim=0) + entropies))\n",
        "\n",
        "\n",
        "distris, probs = compute_pol(theta_A)\n",
        "Q, _ = clean_data(T,P) # for exemple\n",
        "print(compute_loss(distris, probs, Q, P))"
      ]
    },
    {
      "cell_type": "code",
      "execution_count": 10,
      "metadata": {
        "colab": {
          "base_uri": "https://localhost:8080/"
        },
        "id": "Zi9AMT58E3R_",
        "outputId": "12ed71b5-75be-4126-ff59-8d4f052bec5a"
      },
      "outputs": [
        {
          "output_type": "stream",
          "name": "stdout",
          "text": [
            "tensor([0.6931, 1.3863, 1.0986, 0.6931, 1.3863], grad_fn=<StackBackward0>)\n",
            "tensor(-2.0515, grad_fn=<NegBackward0>)\n"
          ]
        }
      ],
      "source": [
        "print(compute_loss(distris, probs, Q, P))"
      ]
    },
    {
      "cell_type": "markdown",
      "metadata": {
        "id": "vrn91D3_E3R_"
      },
      "source": [
        "## Update the parameters\n",
        "\n",
        "Finally we need to compute the gradient of that loss to update the parameters $\\theta_A$ using classic stochastic gradient descent (SGD)."
      ]
    },
    {
      "cell_type": "code",
      "execution_count": 11,
      "metadata": {
        "id": "6kJF1UVuE3R_"
      },
      "outputs": [],
      "source": [
        "def update_theta(theta, Q, P, lr=0.01):\n",
        "    optimizer = torch.optim.SGD([theta], lr=lr)\n",
        "    optimizer.zero_grad()\n",
        "    distris, probs = compute_pol(theta)\n",
        "    loss = compute_loss(distris, probs, Q, P)\n",
        "    loss.backward()\n",
        "\n",
        "    optimizer.step()\n"
      ]
    },
    {
      "cell_type": "code",
      "execution_count": 12,
      "metadata": {
        "colab": {
          "base_uri": "https://localhost:8080/"
        },
        "id": "ZpkabmmJE3R_",
        "outputId": "565e859b-764a-4be1-de2f-88483f5ad1f7"
      },
      "outputs": [
        {
          "output_type": "stream",
          "name": "stdout",
          "text": [
            "theta before :  tensor([[   0.,    0.,    0., -100.,    0.],\n",
            "        [   0.,    0.,    0., -100., -100.],\n",
            "        [-100.,    0., -100., -100.,    0.],\n",
            "        [-100., -100., -100.,    0.,    0.],\n",
            "        [-100.,    0.,    0.,    0.,    0.]], requires_grad=True)\n",
            "tensor([0.6931, 1.3863, 1.0986, 0.6931, 1.3863], grad_fn=<StackBackward0>)\n",
            "theta after :  tensor([[ 5.6052e-45,  0.0000e+00, -7.4506e-09, -1.0000e+02,  0.0000e+00],\n",
            "        [ 5.6052e-45,  0.0000e+00, -7.4506e-09, -1.0000e+02, -1.0000e+02],\n",
            "        [-1.0000e+02,  0.0000e+00, -1.0000e+02, -1.0000e+02,  0.0000e+00],\n",
            "        [-1.0000e+02, -1.0000e+02, -1.0000e+02,  5.6052e-45,  0.0000e+00],\n",
            "        [-1.0000e+02,  0.0000e+00, -7.4506e-09,  5.6052e-45,  0.0000e+00]],\n",
            "       requires_grad=True)\n"
          ]
        }
      ],
      "source": [
        "print(\"theta before : \",theta_A)\n",
        "update_theta(theta_A, Q, P,lr=1)\n",
        "print(\"theta after : \",theta_A)"
      ]
    },
    {
      "cell_type": "markdown",
      "metadata": {
        "id": "JLOUYFvbE3SA"
      },
      "source": [
        "$\\theta_A$ has effectively been updated"
      ]
    },
    {
      "cell_type": "code",
      "execution_count": 13,
      "metadata": {
        "colab": {
          "base_uri": "https://localhost:8080/"
        },
        "id": "qpNZtj_UE3SA",
        "outputId": "ee41d368-de90-44c7-8346-6e0036b7456f"
      },
      "outputs": [
        {
          "output_type": "execute_result",
          "data": {
            "text/plain": [
              "([Categorical(logits: torch.Size([5])),\n",
              "  Categorical(logits: torch.Size([5])),\n",
              "  Categorical(logits: torch.Size([5])),\n",
              "  Categorical(logits: torch.Size([5])),\n",
              "  Categorical(logits: torch.Size([5]))],\n",
              " tensor([[5.0000e-01, 2.5000e-01, 3.3333e-01, 1.9618e-44, 2.5000e-01],\n",
              "         [5.0000e-01, 2.5000e-01, 3.3333e-01, 1.9618e-44, 9.8091e-45],\n",
              "         [1.9618e-44, 2.5000e-01, 1.2612e-44, 1.9618e-44, 2.5000e-01],\n",
              "         [1.9618e-44, 9.8091e-45, 1.2612e-44, 5.0000e-01, 2.5000e-01],\n",
              "         [1.9618e-44, 2.5000e-01, 3.3333e-01, 5.0000e-01, 2.5000e-01]],\n",
              "        grad_fn=<CatBackward0>))"
            ]
          },
          "metadata": {},
          "execution_count": 13
        }
      ],
      "source": [
        "compute_pol(theta_A)"
      ]
    },
    {
      "cell_type": "markdown",
      "metadata": {
        "id": "ifCSpOxrE3SA"
      },
      "source": [
        "However the policy $\\pi_{\\theta_A}$ does not seem to have been updated. This is because we used a $Q=T$ so the same importance is given to every true utterance. This way the policy does not change. Let's see what happens with a different $Q$."
      ]
    },
    {
      "cell_type": "code",
      "execution_count": 14,
      "metadata": {
        "colab": {
          "base_uri": "https://localhost:8080/"
        },
        "id": "i0QkMey0E3SA",
        "outputId": "1bc60000-e319-448b-bf5c-a1345c679cbe"
      },
      "outputs": [
        {
          "output_type": "stream",
          "name": "stdout",
          "text": [
            "Q =  tensor([[0.2500, 0.2500, 0.2500, 0.0000, 0.2500],\n",
            "        [0.3333, 0.3333, 0.3333, 0.0000, 0.0000],\n",
            "        [0.0000, 0.5000, 0.0000, 0.0000, 0.5000],\n",
            "        [0.0000, 0.0000, 0.0000, 0.5000, 0.5000],\n",
            "        [0.0000, 0.2500, 0.2500, 0.2500, 0.2500]])\n",
            "tensor([0.6931, 1.3863, 1.0986, 0.6931, 1.3863], grad_fn=<StackBackward0>)\n",
            "policy =  tensor([[4.9792e-01, 2.4896e-01, 3.3272e-01, 1.8217e-44, 2.4844e-01],\n",
            "        [5.0208e-01, 2.5000e-01, 3.3457e-01, 1.8217e-44, 9.8091e-45],\n",
            "        [1.8217e-44, 2.5209e-01, 1.2612e-44, 1.8217e-44, 2.5156e-01],\n",
            "        [1.8217e-44, 9.8091e-45, 1.2612e-44, 5.0625e-01, 2.5156e-01],\n",
            "        [1.8217e-44, 2.4896e-01, 3.3272e-01, 4.9375e-01, 2.4844e-01]],\n",
            "       grad_fn=<CatBackward0>) \n",
            " Truth matrix T =  tensor([[1., 1., 1., 0., 1.],\n",
            "        [1., 1., 1., 0., 0.],\n",
            "        [0., 1., 0., 0., 1.],\n",
            "        [0., 0., 0., 1., 1.],\n",
            "        [0., 1., 1., 1., 1.]])\n"
          ]
        }
      ],
      "source": [
        "Q = F.normalize(T, dim=1, p=1)\n",
        "print(\"Q = \", Q)\n",
        "update_theta(theta_A, Q, P, lr=1)\n",
        "print(\"policy = \", compute_pol(theta_A)[1], \"\\n Truth matrix T = \",T)"
      ]
    },
    {
      "cell_type": "markdown",
      "metadata": {
        "id": "flOEY8K2E3SB"
      },
      "source": [
        "Now the policy has slightly changed. We can also notice that it encouraged the actor to use the most informative utterances."
      ]
    },
    {
      "cell_type": "markdown",
      "metadata": {
        "id": "2-iMjctSE3SB"
      },
      "source": [
        "Perfect. Now we can define an actor class to store those methods.\n",
        "\n",
        "The actor will require the following arguments :\n",
        "- initial parameter $\\theta_A^0$\n",
        "- action space $U$ : utterances space represented by an index $a \\in \\{0,1,...,U-1\\}$\n",
        "- state space $M$ : meanings space represented by an index $s \\in \\{0,1,...,M-1\\}$\n",
        "- critic model : in our case of SAC, to compute the loss function of the actor we need the critic model"
      ]
    },
    {
      "cell_type": "code",
      "execution_count": 15,
      "metadata": {
        "id": "Ssnb5cuGE3SB"
      },
      "outputs": [],
      "source": [
        "class Actor:\n",
        "    def __init__(self, theta_init, lr=0.01):\n",
        "        self.theta = theta_init\n",
        "        self.distris, self.probs = torch.tensor(0), torch.tensor(0)\n",
        "        self.loss = torch.tensor(0)\n",
        "        self.optimizer = torch.optim.SGD([self.theta], lr=lr)\n",
        "        self.entropy_term = torch.tensor(0)\n",
        "\n",
        "    def update_pol(self):\n",
        "        distris = [Categorical(logits = self.theta[:,i].contiguous()) for i in range(self.theta.shape[1])]\n",
        "        probs = [Categorical(logits = self.theta[:,i].contiguous()).probs for i in range(self.theta.shape[1])]\n",
        "        probs = torch.cat([prob.unsqueeze(0).t() for prob in probs], dim=1)\n",
        "        self.distris, self.probs = distris, probs\n",
        "\n",
        "    def sample_action(self, action):\n",
        "        return self.distris[action].sample()\n",
        "\n",
        "    def update_loss(self, Q, P):\n",
        "        \"\"\"\n",
        "        inputs :\n",
        "        Q values of (a,s) pairs\n",
        "        P : prior probability of each meaning (or state)\n",
        "        \"\"\"\n",
        "        entropies = torch.stack([dist.entropy() for dist in self.distris])\n",
        "        entropy_term = torch.sum(P*entropies)\n",
        "        loss = -torch.sum(P * (torch.sum(self.probs * Q, dim=0)) + entropy_term)\n",
        "        self.entropy_term = entropy_term\n",
        "        self.loss = loss\n",
        "\n",
        "\n",
        "    def update_theta(self):\n",
        "        self.optimizer.zero_grad()\n",
        "        self.loss.backward()\n",
        "        self.optimizer.step()\n",
        ""
      ]
    },
    {
      "cell_type": "markdown",
      "metadata": {
        "id": "8voUQSYBE3SB"
      },
      "source": [
        "To test the actor we can run one loop of the training process."
      ]
    },
    {
      "cell_type": "code",
      "execution_count": 16,
      "metadata": {
        "colab": {
          "base_uri": "https://localhost:8080/"
        },
        "id": "qEuR_j8FE3SC",
        "outputId": "e207e6dd-7ab5-423b-8f19-b0df9a6cee3a"
      },
      "outputs": [
        {
          "output_type": "stream",
          "name": "stdout",
          "text": [
            "actor loss before update :  tensor(-5.5881, grad_fn=<NegBackward0>)\n",
            "actor loss after update :  tensor(-5.5886, grad_fn=<NegBackward0>)\n"
          ]
        }
      ],
      "source": [
        "Q = F.normalize(T, dim=1, p=1)\n",
        "\n",
        "theta_A,_ = init_thetas(T) # reset theta_A\n",
        "actor = Actor(theta_init=theta_A,lr=1)\n",
        "actor.update_pol()\n",
        "actor.update_loss(Q,P)\n",
        "#print(\"actor probs before update : \",actor.probs)\n",
        "print(\"actor loss before update : \",actor.loss)\n",
        "actor.update_theta()\n",
        "actor.update_pol()\n",
        "actor.update_loss(Q,P)\n",
        "#print(\"actor probs after update : \",actor.probs)\n",
        "print(\"actor loss after update : \",actor.loss)"
      ]
    },
    {
      "cell_type": "markdown",
      "metadata": {
        "id": "Dd_roeTmE3SC"
      },
      "source": [
        "# Critic\n",
        "\n",
        "The critic is defined by its parameters $\\theta_C$. The critic need to be able to :\n",
        "- compute its value function $Q_{\\theta_C}(a,s)$\n",
        "- compute its loss function $\\mathcal{L}_{\\text{critic}}$\n",
        "- update its parameters $\\theta_C$\n",
        "\n",
        "For visualization purpose, we will also compute the policy $\\pi_{\\theta_C}(s|a)$ even though it is not used in Soft Actor Critic."
      ]
    },
    {
      "cell_type": "markdown",
      "metadata": {
        "id": "_2MtMJw2E3SC"
      },
      "source": [
        "## Compute value function\n",
        "\n",
        "Its value function is defined as :\n",
        "$$\n",
        "Q_{\\theta_C}(a,s) = \\alpha * \\log\\left(\\frac{\\exp(\\theta_C(a,s))}{\\sum_{s'}\\exp(\\theta_C(a,s'))}\\right)\n",
        "$$\n",
        "\n",
        "Where $\\alpha$ is a hyperparameter appearing in classic RSA : $S(u|m)\\propto \\exp(\\alpha V_L(u,m))$."
      ]
    },
    {
      "cell_type": "code",
      "execution_count": 17,
      "metadata": {
        "colab": {
          "base_uri": "https://localhost:8080/"
        },
        "id": "OhW6-6lLE3SD",
        "outputId": "7f617a22-9b52-4111-a463-aaf0104114c5"
      },
      "outputs": [
        {
          "output_type": "stream",
          "name": "stdout",
          "text": [
            "tensor([[  -1.3863,   -1.3863,   -1.3863, -101.3330,   -1.3863],\n",
            "        [  -1.0986,   -1.0986,   -1.0986, -101.0817, -101.0817],\n",
            "        [-100.6399,   -0.6931, -100.6399, -100.6399,   -0.6931],\n",
            "        [-100.6399, -100.6399, -100.6399,   -0.6931,   -0.6931],\n",
            "        [-101.3330,   -1.3863,   -1.3863,   -1.3863,   -1.3863]],\n",
            "       grad_fn=<MulBackward0>)\n"
          ]
        }
      ],
      "source": [
        "def compute_Q(theta, alpha=1):\n",
        "    Q = alpha*(torch.log(torch.softmax(theta,dim=1)))\n",
        "    return Q\n",
        "print(compute_Q(theta_C))"
      ]
    },
    {
      "cell_type": "markdown",
      "metadata": {
        "id": "jS__XVHQE3SD"
      },
      "source": [
        "## Loss function\n",
        "\n",
        "Now the loss function, defined as :\n",
        "$$\n",
        "\\mathcal{L}_{\\text{critic}} = -\\sum_{s}P(s)\\left(\\sum_{a}\\pi_{\\theta_A}(a|s)Q_{\\theta_C}(a,s) + H_s(\\pi_{\\theta_A})\\right)\n",
        "$$"
      ]
    },
    {
      "cell_type": "code",
      "execution_count": 18,
      "metadata": {
        "colab": {
          "base_uri": "https://localhost:8080/"
        },
        "id": "2g-YVZ5LE3SD",
        "outputId": "946c2ab6-e96b-4a0f-aa52-200972cda5c6"
      },
      "outputs": [
        {
          "output_type": "execute_result",
          "data": {
            "text/plain": [
              "tensor(1.1489, grad_fn=<NegBackward0>)"
            ]
          },
          "metadata": {},
          "execution_count": 18
        }
      ],
      "source": [
        "def compute_loss(probs,Q,P):\n",
        "    loss = -torch.sum(P * (torch.sum(probs * Q, dim=0)))\n",
        "    return loss\n",
        "\n",
        "compute_loss(actor.probs, compute_Q(theta_C), P)"
      ]
    },
    {
      "cell_type": "markdown",
      "metadata": {
        "id": "ABiCG4cVE3SE"
      },
      "source": [
        "## $\\theta$ update\n",
        "\n",
        "We can now update parameters $\\theta_C$ using SGD."
      ]
    },
    {
      "cell_type": "code",
      "execution_count": 19,
      "metadata": {
        "colab": {
          "base_uri": "https://localhost:8080/"
        },
        "id": "4fcnUS1BE3SE",
        "outputId": "958dd4d8-b250-4d11-900f-28f61f9de73c"
      },
      "outputs": [
        {
          "output_type": "stream",
          "name": "stdout",
          "text": [
            "theta_C before update :  tensor([[   0.,    0.,    0., -100.,    0.],\n",
            "        [   0.,    0.,    0., -100., -100.],\n",
            "        [-100.,    0., -100., -100.,    0.],\n",
            "        [-100., -100., -100.,    0.,    0.],\n",
            "        [-100.,    0.,    0.,    0.,    0.]], requires_grad=True)\n",
            "theta_C after update :  tensor([[ 1.8949e-04, -2.8927e-04, -6.3929e-05, -1.0000e+02, -3.3995e-04],\n",
            "        [ 4.2162e-04, -2.0098e-04,  7.2303e-05, -1.0000e+02, -1.0000e+02],\n",
            "        [-1.0000e+02,  2.2397e-04, -1.0000e+02, -1.0000e+02,  1.7329e-04],\n",
            "        [-1.0000e+02, -1.0000e+02, -1.0000e+02,  5.9657e-04, -7.6713e-05],\n",
            "        [-1.0000e+02, -2.8927e-04, -6.3929e-05, -1.3240e-05, -3.3995e-04]],\n",
            "       requires_grad=True)\n"
          ]
        }
      ],
      "source": [
        "def update_theta(theta, probs, Q, P, lr=0.01):\n",
        "    optimizer = torch.optim.SGD([theta], lr=lr)\n",
        "    optimizer.zero_grad()\n",
        "    loss = compute_loss(probs, Q, P)\n",
        "    loss.backward()\n",
        "    optimizer.step()\n",
        "    return theta\n",
        "\n",
        "_, theta_C = init_thetas(T)\n",
        "actor = Actor(theta_init=theta_C,lr=1)\n",
        "actor.update_pol()\n",
        "probs = actor.probs\n",
        "Q = compute_Q(theta_C)\n",
        "print(\"theta_C before update : \", theta_C)\n",
        "theta_C = update_theta(theta_C, probs, Q, P)\n",
        "print(\"theta_C after update : \", theta_C)"
      ]
    },
    {
      "cell_type": "markdown",
      "metadata": {
        "id": "B6UX0IzzE3SE"
      },
      "source": [
        "## Policy\n",
        "\n",
        "For better understanding, we can compute the policy $\\pi_{\\theta_C}(s|a)$ with care to not switch $s$ and $a$ in the formula."
      ]
    },
    {
      "cell_type": "code",
      "execution_count": 20,
      "metadata": {
        "colab": {
          "base_uri": "https://localhost:8080/"
        },
        "id": "Vq-_NBmPE3SE",
        "outputId": "5b8ede02-dbd2-4e9d-894b-772e2cff4120"
      },
      "outputs": [
        {
          "output_type": "stream",
          "name": "stdout",
          "text": [
            "probs =  tensor([[2.5008e-01, 2.4996e-01, 2.5002e-01, 9.8091e-45, 2.4995e-01],\n",
            "        [3.3344e-01, 3.3323e-01, 3.3332e-01, 1.2612e-44, 1.2612e-44],\n",
            "        [1.9618e-44, 5.0001e-01, 1.9618e-44, 1.9618e-44, 4.9999e-01],\n",
            "        [1.9618e-44, 1.9618e-44, 1.9618e-44, 5.0017e-01, 4.9983e-01],\n",
            "        [9.8091e-45, 2.4997e-01, 2.5003e-01, 2.5004e-01, 2.4996e-01]],\n",
            "       grad_fn=<CatBackward0>)\n"
          ]
        }
      ],
      "source": [
        "def compute_pol(theta):\n",
        "    distris = [Categorical(logits = theta[i,:].contiguous()) for i in range(theta.shape[0])]\n",
        "    probs = [Categorical(logits = theta[i,:].contiguous()).probs for i in range(theta.shape[0])]\n",
        "    probs = torch.cat([prob.unsqueeze(0) for prob in probs], dim=0)\n",
        "    return distris, probs\n",
        "\n",
        "distris, probs = compute_pol(theta_C)\n",
        "print(\"probs = \", probs)"
      ]
    },
    {
      "cell_type": "markdown",
      "metadata": {
        "id": "HuaPLUzvE3SF"
      },
      "source": [
        "A tensor is said _contiguous_ when its data is stored in a contiguous block of memory : stored sequentially in memory without any gaps.\n",
        "\n",
        "The ``.contiguous`` method allow the tensor to be contiguous. Slicing may cause the tensor to be non contiguous and some pyTorch operations require the tensor to be contiguous. When the ``grad_fn`` of the computational graph blocks at ``AsStridedBackward0`` it typically reference to an issue with slicing operation."
      ]
    },
    {
      "cell_type": "markdown",
      "metadata": {
        "id": "kTQk-bEcE3SF"
      },
      "source": [
        "We can finally put those function in a class to store them."
      ]
    },
    {
      "cell_type": "code",
      "execution_count": 21,
      "metadata": {
        "id": "7QRlh0iAE3SF"
      },
      "outputs": [],
      "source": [
        "class Critic:\n",
        "    def __init__(self, theta_init, alpha=1, lr=0.01):\n",
        "        self.theta = theta_init\n",
        "        self.Q = torch.tensor(0)\n",
        "        self.alpha = alpha\n",
        "        self.optimizer = torch.optim.SGD([self.theta], lr=lr)\n",
        "        self.loss = torch.tensor(0)\n",
        "        self.probs = torch.tensor(0)\n",
        "        self.distris = torch.tensor(0)\n",
        "\n",
        "    def update_Q(self):\n",
        "        self.Q = self.alpha*(torch.log(torch.softmax(self.theta,dim=1)))\n",
        "\n",
        "    def update_loss(self, probs, P):\n",
        "        self.loss = -torch.sum(P * (torch.sum(probs * self.Q, dim=0) - probs * torch.log(probs)))\n",
        "\n",
        "    def update_theta(self,lr=0.01):\n",
        "        self.optimizer = torch.optim.SGD([self.theta], lr=lr)\n",
        "        self.optimizer.zero_grad()\n",
        "        self.loss.backward()\n",
        "        self.optimizer.step()\n",
        "\n",
        "    def update_pol(self):\n",
        "        distris = [Categorical(logits = self.theta[i,:].contiguous()) for i in range(self.theta.shape[0])]\n",
        "        probs = [Categorical(logits = self.theta[i,:].contiguous()).probs for i in range(self.theta.shape[0])]\n",
        "        self.probs = torch.cat([prob.unsqueeze(0) for prob in probs], dim=0)\n",
        "        self.distris = distris"
      ]
    },
    {
      "cell_type": "code",
      "execution_count": 22,
      "metadata": {
        "colab": {
          "base_uri": "https://localhost:8080/"
        },
        "id": "WWCQl8-DE3SF",
        "outputId": "fbca878a-ac92-4004-f081-e695a9cce536"
      },
      "outputs": [
        {
          "output_type": "execute_result",
          "data": {
            "text/plain": [
              "<torch.autograd.anomaly_mode.set_detect_anomaly at 0x7ef47e82a650>"
            ]
          },
          "metadata": {},
          "execution_count": 22
        }
      ],
      "source": [
        "torch.autograd.set_detect_anomaly(True)"
      ]
    },
    {
      "cell_type": "code",
      "execution_count": 23,
      "metadata": {
        "colab": {
          "base_uri": "https://localhost:8080/"
        },
        "id": "XX_qGD3cE3SG",
        "outputId": "a7ab7ba1-e28d-4194-90c6-c0a37568aa1e"
      },
      "outputs": [
        {
          "output_type": "stream",
          "name": "stdout",
          "text": [
            "tensor([[1., 1., 1., 0., 1.],\n",
            "        [1., 1., 1., 0., 0.],\n",
            "        [0., 1., 0., 0., 1.],\n",
            "        [0., 0., 0., 1., 1.],\n",
            "        [0., 1., 1., 1., 1.]])\n",
            "----------BEFORE UPDATE----------\n",
            "critic loss :  tensor(4.7019, grad_fn=<NegBackward0>)\n",
            "actor loss + e :  tensor(-3.0553, grad_fn=<AddBackward0>)\n",
            "entropy_term =  tensor(1.0515, grad_fn=<SumBackward0>)\n",
            "-----------AFTER UPDATE-----------\n",
            "critic loss :  tensor(4.7004, grad_fn=<NegBackward0>)\n",
            "entropy_term =  tensor(1.0515, grad_fn=<SumBackward0>)\n"
          ]
        }
      ],
      "source": [
        "print(T)\n",
        "print(\"----------BEFORE UPDATE----------\")\n",
        "theta_A, theta_C = init_thetas(T)\n",
        "actor = Actor(theta_A, lr=1)\n",
        "critic = Critic(theta_C, lr=1)\n",
        "actor.update_pol()\n",
        "critic.update_Q()\n",
        "probs = actor.probs.clone()\n",
        "critic.update_loss(probs, P)\n",
        "actor.update_loss(critic.Q, P)\n",
        "print(\"critic loss : \", critic.loss)\n",
        "print(\"actor loss + e : \", actor.loss + actor.entropy_term)\n",
        "print(\"entropy_term = \",actor.entropy_term)\n",
        "print(\"-----------AFTER UPDATE-----------\")\n",
        "critic.update_theta()\n",
        "#actor.update_theta()\n",
        "actor.update_pol()\n",
        "critic.update_Q()\n",
        "critic.update_loss(probs, P)\n",
        "actor.update_loss(critic.Q, P)\n",
        "print(\"critic loss : \", critic.loss)\n",
        "print(\"entropy_term = \",actor.entropy_term)"
      ]
    },
    {
      "cell_type": "markdown",
      "metadata": {
        "id": "2v63-gdOE3SG"
      },
      "source": [
        "And we could continue to train the critic as long as we execute the instruction in the following order :\n",
        "1. ``critic.update_Q()``\n",
        "2. ``critic.compute_loss()``\n",
        "3. ``critic.update_theta()``"
      ]
    },
    {
      "cell_type": "code",
      "execution_count": 24,
      "metadata": {
        "id": "aPz33VopE3SG"
      },
      "outputs": [],
      "source": [
        "critic.update_Q()\n",
        "critic.update_loss(probs, P)\n",
        "actor.update_loss(critic.Q, P)"
      ]
    },
    {
      "cell_type": "markdown",
      "metadata": {
        "id": "NOiZHLGRE3SG"
      },
      "source": [
        "This verifies that there is no problem with the computational graph being destroyed and not fully reconstructed. But one may notice that we cheated by fixing\n",
        "```python\n",
        "probs = actor.probs.clone()\n",
        "```\n",
        "This way we do not backpropagate through the actor when updating the critic. If we used ``actor.probs`` insteand of ``probs``, the computational graph would be destroyed once the actor as been backpropagated and we could not backpropagate through the critic because the computational graph would have already been destroyed.\n",
        "\n",
        "The way we implemented the SAC is not correct and we should do a single backpropagation through every parameters instead of two separate backpropagation, and this is because **actor and critic are not independent**."
      ]
    },
    {
      "cell_type": "markdown",
      "metadata": {
        "id": "AVccLFP5E3SH"
      },
      "source": [
        "The error : \"Trying to backward through the graph a second time\"occurs after using ``.backward()`` because the computational graph has been destroyed. We need to reconstruct a new one to use ``.backward()`` again."
      ]
    },
    {
      "cell_type": "markdown",
      "metadata": {
        "id": "VW78r7T4E3SH"
      },
      "source": [
        "# Soft Actor Critic\n",
        "\n",
        "Now that we have defined the actor and the critic, we can implement the Soft Actor Critic algorithm. It will be pretty straightforward as we already already coded everything we need.\n",
        "\n",
        "We just want to keep in mind that actor and critic are two parts of the same SAC model so we create the simple SAC class.\n",
        "\n",
        "We also have to take care of the above issue when backpropagating through the actor and the critic. For this reason we will use the ``.detach()`` method to detach the shared tensors from the computational graph. The shared tensors are $Q_{\\theta_C}$ and $\\pi_{\\theta_A}$."
      ]
    },
    {
      "cell_type": "code",
      "execution_count": 25,
      "metadata": {
        "id": "Zk1av9qVE3SH"
      },
      "outputs": [],
      "source": [
        "class SAC:\n",
        "    def __init__(self, theta_A, theta_C, config):\n",
        "        self.actor = Actor(theta_A, lr=config.lr_A)\n",
        "        self.critic = Critic(theta_C, alpha=config.alpha, lr=config.lr_C)\n",
        "\n",
        "    def sample_action(self, action):\n",
        "        return self.actor.sample_action(action)\n",
        "\n",
        "    def update(self, P):\n",
        "        self.actor.update_pol()\n",
        "        self.critic.update_pol()\n",
        "        self.critic.update_Q()\n",
        "        self.actor.update_loss(self.critic.Q.detach(), P)\n",
        "        self.critic.update_loss(self.actor.probs.detach(), P)\n",
        "        self.actor.update_theta()\n",
        "        self.critic.update_theta()\n",
        "        self.critic.update_pol()"
      ]
    },
    {
      "cell_type": "markdown",
      "metadata": {
        "id": "EiH4JLnkE3SH"
      },
      "source": [
        "We also define a simple method class to store model parameters."
      ]
    },
    {
      "cell_type": "code",
      "execution_count": 26,
      "metadata": {
        "id": "cQFlIDLlE3SI"
      },
      "outputs": [],
      "source": [
        "class Config:\n",
        "    def __init__(self, num_episodes=1000, lr_A=0.01, lr_C=0.01, alpha=1, env_name='DefaultEnv'):\n",
        "        self.num_episodes = num_episodes\n",
        "        self.lr_A = lr_A\n",
        "        self.lr_C = lr_C\n",
        "        self.alpha = alpha\n",
        "        self.env_name = env_name"
      ]
    },
    {
      "cell_type": "markdown",
      "metadata": {
        "id": "XZHk1cwhE3SI"
      },
      "source": [
        "# Environment\n",
        "\n",
        "In Reinforcement Learning, some signals are sent by the environment the agent is learning from. In our case, the environment is the listener.\n",
        "\n",
        "This environment could for instance be the real listener receiving speaker messages. As in RSA we only use the approximated listener, we could tell our environment to perfetcly mimic critic behavour.\n",
        "\n",
        "The environment is mainly responsible for :\n",
        "- sending a starting state\n",
        "- sending a reward\n",
        "- giving the next state (guessed state for instance)\n",
        "\n",
        "As we do not know how we want to use the RSA, we will keep it simple and only implement the first two points.\n",
        "The environment should take as argument a listener model, but here we will use this class differently."
      ]
    },
    {
      "cell_type": "code",
      "execution_count": 27,
      "metadata": {
        "id": "1JiFjJfdE3SI"
      },
      "outputs": [],
      "source": [
        "class Environment:\n",
        "    def __init__(self, P, T):\n",
        "        self.P = P\n",
        "        self.T = T\n",
        "        self.theta_A, self.theta_C = self.init_thetas(self.T)\n",
        "\n",
        "    def init_thetas(self, T):\n",
        "        theta_A = torch.where(T==0, -100, T)\n",
        "        theta_A = torch.where(T==1, 0, theta_A)\n",
        "        theta_C = torch.where(T==0, -100, T)\n",
        "        theta_C = torch.where(T==1, 0, theta_C)\n",
        "        theta_A.requires_grad = True\n",
        "        theta_C.requires_grad = True\n",
        "        return theta_A, theta_C\n",
        "\n",
        "    def get_reward(self, action, listener): # We put an action as in any classic RL case, reward depends on the action\n",
        "        return -listener.loss\n",
        "\n",
        "    def step(self, listener, state, action):\n",
        "        reward = -listener.loss\n",
        "        next_state = None\n",
        "        return next_state, reward\n",
        "\n",
        "    def reset(self):\n",
        "        return torch.multinomial(self.P, num_samples=1) # sample initial state\n",
        ""
      ]
    },
    {
      "cell_type": "code",
      "execution_count": 28,
      "metadata": {
        "colab": {
          "base_uri": "https://localhost:8080/"
        },
        "id": "O2YcnyZyE3SJ",
        "outputId": "208c026a-3fcd-400b-ad03-1ed6ad4f6504"
      },
      "outputs": [
        {
          "output_type": "stream",
          "name": "stdout",
          "text": [
            "(None, tensor(-4.7004, grad_fn=<NegBackward0>))\n"
          ]
        }
      ],
      "source": [
        "env = Environment(P,T)\n",
        "env.get_reward(0, critic)\n",
        "env.reset()\n",
        "print(env.step(critic, None, None))"
      ]
    },
    {
      "cell_type": "markdown",
      "metadata": {
        "id": "3XFiQz0OE3SJ"
      },
      "source": [
        "Let think about this ``get_reward()`` function :\n",
        "```python\n",
        "    def get_reward(self, action, listener):\n",
        "        return -listener.loss\n",
        "```\n",
        "Here we are in a special case where we will suppose that **the listener is the critic**. So our ``listener`` argument will be the critic model. In reality SAC is made for our speaker to have a representation, an estimation of the real speaker. This estimation is its critic. In the environment we have the real listener, possibly different from the critic.\n",
        "\n",
        "We can see that as the speaker talking to himself, or to the listener as he imagine it, to prepare its future messages.\n",
        "Another possible explanation is that both the speaker and real listener think exactly the same way.\n",
        "\n",
        "In real RL we would adjust the ``get_reward`` function and modify ``actor.update_loss`` function to compute a loss using the environment reward. For instance Advantage Actor Critic (A2C) algorithm uses the advantage defined as $A^\\pi\\left(s_t, a_t\\right)=Q^\\pi\\left(s_t, a_t\\right)-V^\\pi\\left(s_t\\right)$. Most importantly $Q^\\pi\\left(s_t, a_t\\right)$ and $V^\\pi\\left(s_t\\right)$ are built using environment rewards. Here we computed those values using the critic as if it was the real listener (=environment).\n",
        "\n",
        "For more information on how is computed a real Soft Actor Critic algorithm, you can check this [book](https://books.google.ca/books/about/Foundations_of_Deep_Reinforcement_Learni.html?id=QVA8ugEACAAJ&redir_esc=y) or the [original paper](https://arxiv.org/abs/1801.01290).\n",
        "\n",
        "For now we will keep an _incomplete_ environment but keep in mind that if we wanted to train a speaker in a real environment by bringing, for instance uncertainty about the listener lexicon, or several listeners etc. we would need to modify the following :\n",
        "- ``get_reward`` function to send a relevent reward from the environment to the critic\n",
        "- ``critic.udpate_Q`` and ``critic.update_loss`` to include a notion of \"_how good is the critic at estimating values of the environment ?_\". Here we suppose the critic is perfect and perfectly knows the environment so values are computed from the critic own probabilities and not from environment rewards."
      ]
    },
    {
      "cell_type": "markdown",
      "metadata": {
        "id": "j29EoEr-E3SJ"
      },
      "source": [
        "We could also question the ``step()`` function :\n",
        "```python\n",
        "    def step(self, listener, state):\n",
        "        reward = -listener.loss\n",
        "        next_state = None\n",
        "        return next_state, reward\n",
        "```\n",
        "In classic RL, the step function woud not need ``speaker``argument as it is its role to inform the agent (the speaker) what are the consequences of its actions. Here we are in a special case where we adapt the environment to always fit the critic. We could examine what would happen in more complex environment :\n",
        "- if we wanted the speaker to learn from an unknown listener, listener would entirely be defined in the environment\n",
        "- if we had several listeners, each listener would be defined in the environment class.\n",
        "- if we wanted to add noise to the communication, the environment would take care of adding noise.\n",
        "\n",
        "In our case ``next_state`` will not be used as we reset the environment after each action."
      ]
    },
    {
      "cell_type": "markdown",
      "metadata": {
        "id": "ZWIqZaKOE3SJ"
      },
      "source": [
        "# Training loop\n",
        "\n",
        "Now we have everything we need, we can code the training loop. A classic training loop in RL would look like this :\n",
        "```python\n",
        "    for episode in range(config.num_episodes):\n",
        "        state = env.reset()\n",
        "        done = False\n",
        "        total_reward = 0\n",
        "\n",
        "        while not done:\n",
        "            action = agent.select_action(state)\n",
        "            next_state, reward, done, _ = env.step(action)\n",
        "            agent.memory.push(state, action, reward, next_state, done)\n",
        "            agent.update()\n",
        "            state = next_state\n",
        "            total_reward += reward\n",
        "```\n",
        "Here our agent (the speaker) will not follow a trajectory by taking actions that lead to ``next_state``. We rather set ``done=True`` after each action and there is no ``next_state``. The reward sent back is its own evaluation of _\"how good the pair (a,s) is good\"_."
      ]
    },
    {
      "cell_type": "code",
      "execution_count": 29,
      "metadata": {
        "id": "ZxDR7SBbE3SK"
      },
      "outputs": [],
      "source": [
        "from tqdm import tqdm\n",
        "\n",
        "def train(agent, env, config):\n",
        "    a_losses, c_losses, a_entropies = [], [], []\n",
        "\n",
        "    # Use tqdm to create a progress bar\n",
        "    pbar = tqdm(range(config.num_episodes), desc=\"Training Progress\")\n",
        "    for episode in pbar:\n",
        "        state = env.reset()\n",
        "\n",
        "        # Simulate an environment step and agent update\n",
        "        next_state, reward = env.step(listener=agent.critic, action=None, state=None)\n",
        "        agent.update(env.P)\n",
        "\n",
        "        # Track losses\n",
        "        a_losses.append(agent.actor.loss.item())\n",
        "        c_losses.append(agent.critic.loss.item())\n",
        "        a_entropies.append(agent.actor.entropy_term.item())\n",
        "\n",
        "        # Update progress bar with current losses\n",
        "        pbar.set_postfix({\"Actor Loss\": a_losses[-1], \"Critic Loss\": c_losses[-1], \"Entropy\": a_entropies[-1]})\n",
        "\n",
        "\n",
        "    print(\"Training finished.\")\n",
        "    return a_losses, c_losses, a_entropies"
      ]
    },
    {
      "cell_type": "code",
      "execution_count": 31,
      "metadata": {
        "colab": {
          "base_uri": "https://localhost:8080/"
        },
        "id": "fZ_5vC8aE3SK",
        "outputId": "2dc4ca12-2a2c-4624-9921-fdd2120dc8ee"
      },
      "outputs": [
        {
          "output_type": "stream",
          "name": "stderr",
          "text": [
            "Training Progress: 100%|██████████| 1000/1000 [01:35<00:00, 10.45it/s, Actor Loss=-4.16, Critic Loss=4.42, Entropy=1.05]"
          ]
        },
        {
          "output_type": "stream",
          "name": "stdout",
          "text": [
            "Training finished.\n"
          ]
        },
        {
          "output_type": "stream",
          "name": "stderr",
          "text": [
            "\n"
          ]
        }
      ],
      "source": [
        "env = Environment(P,T)\n",
        "config = Config(num_episodes=1000, lr_A=0.01, lr_C=0.01, alpha=1)\n",
        "theta_A, theta_C = env.init_thetas(T)\n",
        "sac = SAC(theta_A, theta_C, config)\n",
        "a_losses, c_losses, a_entropies = train(agent=sac, env=env, config=config)"
      ]
    },
    {
      "cell_type": "markdown",
      "metadata": {
        "id": "Bx783krAE3SL"
      },
      "source": [
        "To see how well our model is trained, we can plot the evolution of the loss.\n",
        "The losses are defined as\n",
        "$$\\mathcal{L}_{\\text{actor}} = -\n",
        "\\mathcal{L}_{\\text{critic}} = -\\sum_{s}P(s)\\left(\\sum_{a}\\pi_{\\theta_A}(a|s)Q_{\\theta_C}(a,s) + H_s(\\pi_{\\theta_A})\\right)$$\n"
      ]
    },
    {
      "cell_type": "code",
      "execution_count": 32,
      "metadata": {
        "colab": {
          "base_uri": "https://localhost:8080/",
          "height": 503
        },
        "id": "rcJtbEU8E3SL",
        "outputId": "4d23f799-22b7-47fb-e980-ebfa4ff2f758"
      },
      "outputs": [
        {
          "output_type": "display_data",
          "data": {
            "text/plain": [
              "<Figure size 1500x500 with 3 Axes>"
            ],
            "image/png": "[encoded data removed]"
          },
          "metadata": {}
        }
      ],
      "source": [
        "import matplotlib.pyplot as plt\n",
        "\n",
        "# Create a figure with subplots\n",
        "fig, (ax1, ax2, ax3) = plt.subplots(1, 3, figsize=(15, 5))\n",
        "\n",
        "# Plot actor loss on the primary y-axis of the first subplot\n",
        "ax1.plot(a_losses, label='Actor Loss', color='b')\n",
        "ax1.set_xlabel('Episode')\n",
        "ax1.set_ylabel('Loss', color='b')\n",
        "ax1.set_title('Actor Loss')\n",
        "ax1.tick_params(axis='y', labelcolor='b')\n",
        "\n",
        "# Create a second y-axis sharing the same x-axis for the first subplot\n",
        "ax3.plot(a_entropies, label='Entropy', color='g')\n",
        "ax3.set_xlabel('Episode')\n",
        "ax3.set_ylabel('Entropy', color='g')\n",
        "ax3.set_title('Entropy')\n",
        "ax3.tick_params(axis='y', labelcolor='g')\n",
        "\n",
        "# # Combine legends for both y-axes of the first subplot\n",
        "# lines_1, labels_1 = ax1.get_legend_handles_labels()\n",
        "# lines_2, labels_2 = ax3.get_legend_handles_labels()\n",
        "# ax1.legend(lines_1 + lines_2, labels_1 + labels_2, loc='upper right')\n",
        "\n",
        "# Plot critic loss on the second subplot\n",
        "ax2.plot(c_losses, label='Critic Loss', color='r')\n",
        "ax2.set_xlabel('Episode')\n",
        "ax2.set_ylabel('Loss')\n",
        "ax2.set_title('Critic Loss')\n",
        "ax2.legend()\n",
        "ax1.legend()\n",
        "ax3.legend()\n",
        "\n",
        "# Adjust layout to prevent overlap\n",
        "plt.tight_layout()\n",
        "\n",
        "# Display the figure with subplots\n",
        "plt.show()\n"
      ]
    },
    {
      "cell_type": "markdown",
      "metadata": {
        "id": "byvYKx5WE3SL"
      },
      "source": [
        "# Analysis of results\n",
        "\n",
        "We can look at the policies $\\pi_{\\theta_A}$ and $\\pi_{\\theta_C}$ obtained after training to compare it with classic RSA, as welle as the value of the objective function = -loss of the critic."
      ]
    },
    {
      "cell_type": "code",
      "execution_count": 33,
      "metadata": {
        "colab": {
          "base_uri": "https://localhost:8080/"
        },
        "id": "2YBpt-1HE3SL",
        "outputId": "4fe61bc7-e98f-44c7-91d3-b49ae4cf7225"
      },
      "outputs": [
        {
          "output_type": "stream",
          "name": "stdout",
          "text": [
            "critic policy :  tensor([[3.7626e-01, 1.8692e-01, 2.5227e-01, 8.4078e-45, 1.8454e-01],\n",
            "        [4.6160e-01, 2.2882e-01, 3.0959e-01, 1.1210e-44, 1.1210e-44],\n",
            "        [1.8217e-44, 5.0372e-01, 1.8217e-44, 1.8217e-44, 4.9628e-01],\n",
            "        [1.8217e-44, 1.8217e-44, 1.8217e-44, 6.6721e-01, 3.3279e-01],\n",
            "        [8.4078e-45, 1.8970e-01, 2.5626e-01, 3.6676e-01, 1.8728e-01]],\n",
            "       grad_fn=<CatBackward0>)\n",
            "actor policy :  tensor([[4.8956e-01, 2.3619e-01, 3.2847e-01, 1.8217e-44, 2.3216e-01],\n",
            "        [5.1044e-01, 2.4549e-01, 3.4223e-01, 1.8217e-44, 9.8091e-45],\n",
            "        [1.8217e-44, 2.8164e-01, 1.2612e-44, 1.8217e-44, 2.7647e-01],\n",
            "        [1.8217e-44, 9.8091e-45, 1.2612e-44, 5.2990e-01, 2.5873e-01],\n",
            "        [1.8217e-44, 2.3668e-01, 3.2930e-01, 4.7010e-01, 2.3264e-01]],\n",
            "       grad_fn=<CatBackward0>)\n",
            "tensor([[1., 1., 1., 0., 1.],\n",
            "        [1., 1., 1., 0., 0.],\n",
            "        [0., 1., 0., 0., 1.],\n",
            "        [0., 0., 0., 1., 1.],\n",
            "        [0., 1., 1., 1., 1.]])\n"
          ]
        }
      ],
      "source": [
        "sac\n",
        "print(\"critic policy : \", sac.critic.probs)\n",
        "print(\"actor policy : \", sac.actor.probs)\n",
        "print(T)"
      ]
    },
    {
      "cell_type": "markdown",
      "metadata": {
        "id": "8tDjObkSE3SM"
      },
      "source": [
        "**SAC-RSA model does not perfectly match RSA model**. This is because we used a different algorithm and even when trying to maximize the same objective function, the results may be different because those two methods does not converge to an global optimum."
      ]
    }
  ],
  "metadata": {
    "kernelspec": {
      "display_name": "base",
      "language": "python",
      "name": "python3"
    },
    "language_info": {
      "codemirror_mode": {
        "name": "ipython",
        "version": 3
      },
      "file_extension": ".py",
      "mimetype": "text/x-python",
      "name": "python",
      "nbconvert_exporter": "python",
      "pygments_lexer": "ipython3",
      "version": "3.11.7"
    },
    "colab": {
      "provenance": [],
      "include_colab_link": true
    }
  },
  "nbformat": 4,
  "nbformat_minor": 0
}